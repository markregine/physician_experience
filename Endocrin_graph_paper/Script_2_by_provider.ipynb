{
 "cells": [
  {
   "cell_type": "code",
   "execution_count": null,
   "metadata": {},
   "outputs": [],
   "source": [
    "import pandas as pd\n",
    "import numpy as np\n",
    "from matplotlib import pyplot as plt\n",
    "\n",
    "from IPython.core.display import display, HTML, Image\n",
    "display(HTML(\"<style>.container { width:98% !important; }</style>\"))\n",
    "\n",
    "import pyodbc as pyodbc"
   ]
  },
  {
   "cell_type": "code",
   "execution_count": null,
   "metadata": {},
   "outputs": [],
   "source": [
    "from bokeh.io import output_notebook, show\n",
    "output_notebook()\n",
    "from bokeh.models import ColumnDataSource, HoverTool\n",
    "from bokeh.plotting import figure\n",
    "from bokeh.transform import factor_cmap\n",
    "from bokeh import palettes\n",
    "#from bokeh.palettes import Category20\n",
    "#from bokeh.palettes import Accent\n",
    "from bokeh.models import Range1d\n",
    "import bokeh.models as bokeh_models\n",
    "from bokeh.io import export_png"
   ]
  },
  {
   "cell_type": "code",
   "execution_count": null,
   "metadata": {},
   "outputs": [],
   "source": [
    "## Save data\n",
    "df = pd.read_pickle(r\"dfEndocrinology.pkl\")"
   ]
  },
  {
   "cell_type": "code",
   "execution_count": null,
   "metadata": {},
   "outputs": [],
   "source": [
    "df['day'] = df['TimePoint'].dt.day.astype(int)"
   ]
  },
  {
   "cell_type": "code",
   "execution_count": null,
   "metadata": {},
   "outputs": [],
   "source": [
    "df.head()"
   ]
  },
  {
   "cell_type": "code",
   "execution_count": null,
   "metadata": {},
   "outputs": [],
   "source": [
    "## develop function for \n",
    "\n",
    "gb = df.drop_duplicates(['TimePoint', 'Action']).groupby(['Provider', 'enc_nbr', 'day'])\n",
    "gb.groups\n",
    "nodups = gb.get_group(('N.A.MD', '45770953', 27)).drop_duplicates(['TimePoint', 'Action'])\n",
    "nodups.sort_values('TimePoint', inplace=True )\n",
    "nodups['x'] = nodups.assign(ones=1)['ones'].cumsum()\n",
    "nodups\n",
    "\n",
    "#-----------------\n",
    "\n",
    "gb = df\\\n",
    "        .drop_duplicates(['TimePoint', 'Action'])\\\n",
    "        .groupby(['Provider', 'enc_nbr', 'day'])\n",
    "\n",
    "def x(g):\n",
    "    nodups = g.drop_duplicates(['TimePoint', 'Action'])\n",
    "    nodups.sort_values('TimePoint', inplace=True )\n",
    "    nodups['x'] = nodups.assign(ones=1)['ones'].cumsum()\n",
    "    return nodups\n",
    "\n",
    "encLev = gb.apply(x)"
   ]
  },
  {
   "cell_type": "code",
   "execution_count": null,
   "metadata": {},
   "outputs": [],
   "source": [
    "LookupProvider = pd.Series(index = encLev['Provider'].drop_duplicates())\n",
    "LookupProvider[LookupProvider.isnull()] = range(len(LookupProvider))\n",
    "LookupProvider = LookupProvider.astype(int)\n",
    "\n",
    "LookupEnc = pd.Series(index = encLev['enc_nbr'].drop_duplicates())\n",
    "LookupEnc[LookupEnc.isnull()] = range(len(LookupEnc))\n",
    "LookupEnc = LookupEnc.astype(int)"
   ]
  },
  {
   "cell_type": "code",
   "execution_count": null,
   "metadata": {},
   "outputs": [],
   "source": [
    "encLev['y'] = encLev['Provider'].map(LookupProvider)\n",
    "encLev['y2'] = encLev['enc_nbr'].map(LookupEnc)"
   ]
  },
  {
   "cell_type": "code",
   "execution_count": null,
   "metadata": {
    "scrolled": true
   },
   "outputs": [],
   "source": [
    "#encLev"
   ]
  },
  {
   "cell_type": "code",
   "execution_count": null,
   "metadata": {},
   "outputs": [],
   "source": [
    "def plot_points(df, shape):\n",
    "\n",
    "    p = figure(plot_width=1600, plot_height=1600, \n",
    "                   title=\"xxxx\", \n",
    "                   toolbar_location='right', tools=\"crosshair,pan,reset,save,wheel_zoom\") \n",
    "                ## could add x_axis_type='datetime'\n",
    "    \n",
    "    NColors = df.Action.nunique()\n",
    "    index_cmap = factor_cmap('Action', palette=palettes.viridis(NColors), factors=sorted(df.Action.unique()), end=1)\n",
    "\n",
    "    def plot_actions(df, shape=shape):\n",
    "        t = df.copy()\n",
    "        #i = 1\n",
    "        #t = df.assign(y = i)\n",
    "        #print(t.shape, t['TimePoint'].max())\n",
    "        #print(t.enc_nbr.nunique())\n",
    "        #print(t.Action.nunique())\n",
    "        \n",
    "        if shape=='square':\n",
    "            source = ColumnDataSource(df)\n",
    "\n",
    "            p.square(x='x', y='y2',size=4, source=source,\n",
    "                     color= index_cmap, \n",
    "                     hover_line_color=\"darkgrey\", hover_fill_color=index_cmap, fill_alpha=1, legend='Action')\n",
    "        \n",
    "        elif shape=='quad':\n",
    "            t['bottom'] = t['y2'] - .5\n",
    "            t['right'] = t['x'] + 1\n",
    "            source = ColumnDataSource(t)\n",
    "            p.quad(top='y2', bottom='bottom', left='x', right='right', source=source,\n",
    "                 color= index_cmap, \n",
    "                 hover_line_color=\"darkgrey\", hover_fill_color=index_cmap, fill_alpha=1, legend='Action')\n",
    "        \n",
    "        ## HoverTools\n",
    "        #p.add_tools(HoverTool(tooltips=[(\"Provider\", \"@Provider\"),\n",
    "        #                                (\"Encounter\", \"@enc_nbr\"),\n",
    "        #                                (\"Action\", \"@Action\")],\n",
    "        #                     mode='mouse'))\n",
    "\n",
    "        #p.x_range=Range1d( time_point_min, time_point_max + pd.Timedelta(days=1))\n",
    "        \n",
    "    dft = plot_actions(df)        \n",
    "    show(p)"
   ]
  },
  {
   "cell_type": "code",
   "execution_count": null,
   "metadata": {
    "scrolled": false
   },
   "outputs": [],
   "source": [
    "def plot_points(df, shape, plot_width=1600, plot_height=1800):\n",
    "\n",
    "    p = figure(plot_width=plot_width, plot_height=plot_height, \n",
    "                   title=\"xxxx\", \n",
    "                   toolbar_location='right', tools=\"crosshair,pan,reset,save,wheel_zoom\") \n",
    "                ## could add x_axis_type='datetime'\n",
    "    \n",
    "    NColors = df.Action.nunique()\n",
    "    index_cmap = factor_cmap('Action', palette=palettes.viridis(NColors), factors=sorted(df.Action.unique()), end=1)\n",
    "\n",
    "    def plot_actions(df, shape=shape):\n",
    "        t = df.copy()\n",
    "\n",
    "        #i = 1\n",
    "        #t = df.assign(y = i)\n",
    "        #print(t.shape, t['TimePoint'].max())\n",
    "        #print(t.enc_nbr.nunique())\n",
    "        #print(t.Action.nunique())\n",
    "        \n",
    "        if shape=='square':\n",
    "            source = ColumnDataSource(df)\n",
    "\n",
    "            p.square(x='x', y='y2',size=4, source=source,\n",
    "                     color= index_cmap, \n",
    "                     hover_line_color=\"darkgrey\", hover_fill_color=index_cmap, fill_alpha=1, legend='Action')\n",
    "\n",
    "        \n",
    "        elif shape=='quad':\n",
    "            t['bottom'] = t['y2'] - .5\n",
    "            t['right'] = t['x'] + 1\n",
    "            source = ColumnDataSource(t)\n",
    "            p.quad(top='y2', bottom='bottom', left='x', right='right', source=source,\n",
    "                 color= index_cmap, \n",
    "                 hover_line_color=\"darkgrey\", hover_fill_color=index_cmap, fill_alpha=1, legend='Action')\n",
    "        \n",
    "        ## HoverTools\n",
    "        #p.add_tools(HoverTool(tooltips=[(\"Provider\", \"@Provider\"),\n",
    "        #                                (\"Encounter\", \"@enc_nbr\"),\n",
    "        #                                (\"Action\", \"@Action\")],\n",
    "        #                     mode='mouse'))\n",
    "\n",
    "        #p.x_range=Range1d( time_point_min, time_point_max + pd.Timedelta(days=1))\n",
    "        \n",
    "  \n",
    "    ## anno\n",
    "    def get_mean_y_points_for_anno():\n",
    "        s = encLev[mm].reset_index(drop=True)[['Provider', 'enc_nbr']].drop_duplicates().reset_index(drop=True).reset_index().groupby('Provider')['index'].mean()\n",
    "        s = s.to_frame().assign(x_anno=150).rename(columns={'index':'y_anno'}).reset_index()\n",
    "        return s\n",
    "    \n",
    "    def get_mean_y_points_for_anno():\n",
    "        s = encLev[mm].reset_index(drop=True)[['Provider', 'y2']].drop_duplicates().groupby('Provider')['y2'].mean()\n",
    "        s = s.to_frame().assign(x_anno=150).rename(columns={'y2':'y_anno'}).reset_index()\n",
    "        return s\n",
    "    \n",
    "    anno = bokeh_models.LabelSet(source=ColumnDataSource(get_mean_y_points_for_anno()), x='x_anno', y='y_anno', text='Provider', text_font_size=\"8pt\", angle=0,  angle_units='deg')\n",
    "    p.add_layout(anno)\n",
    "        \n",
    "    dft = plot_actions(df) \n",
    "    show(p)"
   ]
  },
  {
   "cell_type": "code",
   "execution_count": null,
   "metadata": {},
   "outputs": [],
   "source": [
    "## keep only the records that have more then one template\n",
    "m = encLev.groupby('y2').apply(lambda g: g['x'].nunique()) > 1\n",
    "mm = encLev['y2'].map(m)"
   ]
  },
  {
   "cell_type": "code",
   "execution_count": null,
   "metadata": {},
   "outputs": [],
   "source": [
    "encLev[mm].groupby('Provider').agg({'y2':['min', 'max']}).sort_values([('y2', 'min')], ascending=False)"
   ]
  },
  {
   "cell_type": "code",
   "execution_count": null,
   "metadata": {
    "scrolled": false
   },
   "outputs": [],
   "source": [
    "plot_points(encLev[mm], shape='quad')"
   ]
  },
  {
   "cell_type": "code",
   "execution_count": null,
   "metadata": {},
   "outputs": [],
   "source": [
    "LookupProvider"
   ]
  },
  {
   "cell_type": "code",
   "execution_count": null,
   "metadata": {},
   "outputs": [],
   "source": []
  }
 ],
 "metadata": {
  "kernelspec": {
   "display_name": "Python 3",
   "language": "python",
   "name": "python3"
  },
  "language_info": {
   "codemirror_mode": {
    "name": "ipython",
    "version": 3
   },
   "file_extension": ".py",
   "mimetype": "text/x-python",
   "name": "python",
   "nbconvert_exporter": "python",
   "pygments_lexer": "ipython3",
   "version": "3.7.0"
  }
 },
 "nbformat": 4,
 "nbformat_minor": 2
}
